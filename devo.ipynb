{
 "cells": [
  {
   "cell_type": "code",
   "execution_count": 1,
   "id": "1c3b163c",
   "metadata": {},
   "outputs": [
    {
     "name": "stdout",
     "output_type": "stream",
     "text": [
      "✅ All imports loaded successfully!\n",
      "📁 Ready to process tagged region sermon content\n"
     ]
    }
   ],
   "source": [
    "\n",
    "import os\n",
    "import json\n",
    "import logging\n",
    "from pathlib import Path\n",
    "from typing import List, Dict, Any\n",
    "from datetime import datetime\n",
    "\n",
    "# Core libraries\n",
    "from dotenv import load_dotenv\n",
    "from openai import OpenAI\n",
    "from pinecone import Pinecone, ServerlessSpec\n",
    "\n",
    "# LlamaIndex imports\n",
    "from llama_index.core import Document, SimpleDirectoryReader\n",
    "from llama_index.core.node_parser import SimpleNodeParser\n",
    "from llama_index.core.schema import BaseNode, TextNode\n",
    "\n",
    "\n",
    "# Load environment variables\n",
    "load_dotenv()\n",
    "\n",
    "# Configure logging\n",
    "logging.basicConfig(level=logging.INFO, format='%(asctime)s - %(levelname)s - %(message)s')\n",
    "logger = logging.getLogger(__name__)\n",
    "\n",
    "print(\"✅ All imports loaded successfully!\")\n",
    "print(\"📁 Ready to process tagged region sermon content\")"
   ]
  },
  {
   "cell_type": "code",
   "execution_count": 2,
   "id": "6cdd1f04",
   "metadata": {},
   "outputs": [
    {
     "name": "stdout",
     "output_type": "stream",
     "text": [
      "📄 Loaded 1 documents from './devo_dir'\n"
     ]
    }
   ],
   "source": [
    "reader = SimpleDirectoryReader(input_dir=\"./devo_dir\", recursive=True)\n",
    "documents = reader.load_data()\n",
    "print(f\"📄 Loaded {len(documents)} documents from './devo_dir'\")"
   ]
  },
  {
   "cell_type": "code",
   "execution_count": 3,
   "id": "a3284770",
   "metadata": {},
   "outputs": [
    {
     "name": "stdout",
     "output_type": "stream",
     "text": [
      "📝 Parsed 4 nodes from documents\n"
     ]
    }
   ],
   "source": [
    "\n",
    "EMBEDDING_MODEL = \"text-embedding-3-large\"\n",
    "EMBEDDING_DIMENSIONS = 3072\n",
    "\n",
    "\n",
    "parser = SimpleNodeParser(\n",
    "        chunk_size=512,\n",
    "        chunk_overlap=20,\n",
    "        include_metadata=True,\n",
    "        include_prev_next_rel=True\n",
    "    )\n",
    "nodes = parser.get_nodes_from_documents(documents)\n",
    "print(f\"📝 Parsed {len(nodes)} nodes from documents\")"
   ]
  },
  {
   "cell_type": "code",
   "execution_count": null,
   "id": "f1964435",
   "metadata": {},
   "outputs": [
    {
     "name": "stdout",
     "output_type": "stream",
     "text": [
      "🤖 OpenAI client initialized\n"
     ]
    },
    {
     "name": "stderr",
     "output_type": "stream",
     "text": [
      "2025-08-28 10:55:35,909 - INFO - HTTP Request: POST https://api.openai.com/v1/embeddings \"HTTP/1.1 200 OK\"\n",
      "/home/bam/general/lib/python3.12/site-packages/tqdm/auto.py:21: TqdmWarning: IProgress not found. Please update jupyter and ipywidgets. See https://ipywidgets.readthedocs.io/en/stable/user_install.html\n",
      "  from .autonotebook import tqdm as notebook_tqdm\n"
     ]
    },
    {
     "ename": "TypeError",
     "evalue": "object of type 'NoneType' has no len()",
     "output_type": "error",
     "traceback": [
      "\u001b[31m---------------------------------------------------------------------------\u001b[39m",
      "\u001b[31mTypeError\u001b[39m                                 Traceback (most recent call last)",
      "\u001b[36mCell\u001b[39m\u001b[36m \u001b[39m\u001b[32mIn[4]\u001b[39m\u001b[32m, line 16\u001b[39m\n\u001b[32m     11\u001b[39m aog_index = pc.Index(\u001b[33m\"\u001b[39m\u001b[33maog-devo\u001b[39m\u001b[33m\"\u001b[39m)\n\u001b[32m     12\u001b[39m response = aog_index.upsert(vectors=[\n\u001b[32m     13\u001b[39m         (\u001b[38;5;28mstr\u001b[39m(i), node_embedding.embedding, {\u001b[33m\"\u001b[39m\u001b[33mtext\u001b[39m\u001b[33m\"\u001b[39m: nodes[i].text, **nodes[i].metadata})\n\u001b[32m     14\u001b[39m         \u001b[38;5;28;01mfor\u001b[39;00m i, node_embedding \u001b[38;5;129;01min\u001b[39;00m \u001b[38;5;28menumerate\u001b[39m(response.data)\n\u001b[32m     15\u001b[39m     ])\n\u001b[32m---> \u001b[39m\u001b[32m16\u001b[39m \u001b[38;5;28mprint\u001b[39m(\u001b[33mf\u001b[39m\u001b[33m\"\u001b[39m\u001b[33m📈 Upserted \u001b[39m\u001b[38;5;132;01m{\u001b[39;00m\u001b[38;5;28;43mlen\u001b[39;49m\u001b[43m(\u001b[49m\u001b[43mresponse\u001b[49m\u001b[43m.\u001b[49m\u001b[43mupserted_ids\u001b[49m\u001b[43m)\u001b[49m\u001b[38;5;132;01m}\u001b[39;00m\u001b[33m vectors into Pine\u001b[39m\u001b[33m\"\u001b[39m)\n",
      "\u001b[31mTypeError\u001b[39m: object of type 'NoneType' has no len()"
     ]
    }
   ],
   "source": [
    "client = OpenAI()\n",
    "print(\"🤖 OpenAI client initialized\")\n",
    "\n",
    "pc = Pinecone()\n",
    "response = client.embeddings.create(\n",
    "        input=[n.text for n in nodes],\n",
    "        model=EMBEDDING_MODEL\n",
    "    )\n",
    "input_vector = response.data[0].embedding\n",
    "\n",
    "aog_index = pc.Index(\"aog-devo\")\n",
    "response = aog_index.upsert(vectors=[\n",
    "        (str(i), node_embedding.embedding, {\"text\": nodes[i].text, **nodes[i].metadata})\n",
    "        for i, node_embedding in enumerate(response.data)\n",
    "    ])"
   ]
  },
  {
   "cell_type": "code",
   "execution_count": 5,
   "id": "b8d0b90c",
   "metadata": {},
   "outputs": [
    {
     "name": "stdout",
     "output_type": "stream",
     "text": [
      "🔍 Testing RAG functionality with query: 'family devotion'\n"
     ]
    },
    {
     "name": "stderr",
     "output_type": "stream",
     "text": [
      "2025-08-28 10:56:49,258 - INFO - HTTP Request: POST https://api.openai.com/v1/embeddings \"HTTP/1.1 200 OK\"\n"
     ]
    },
    {
     "name": "stdout",
     "output_type": "stream",
     "text": [
      "🎯 Found 4 relevant chunks\n",
      "\n",
      "📄 Result 1 (Score: 0.3440):\n",
      "   Content: Day 2—FAMILY DEVOTIONS\n",
      "\n",
      "\n",
      "\n",
      "Faith Fact\n",
      "\n",
      "We believe that . . .The Bible is God’s Word and His plan for me.\n",
      "\n",
      "Faith Verse\n",
      "\n",
      "Psalm 119:105 (NLT)\n",
      "\n",
      "Your word is a lamp to guide my feet and a light for my path....\n",
      "\n",
      "📄 Result 2 (Score: 0.2883):\n",
      "   Content: Foundations for Faith\t                     \tThe Scriptures Inspired | Session 1\t\n",
      "\n",
      "\n",
      "\n",
      "\n",
      "\n",
      "Day 1—FAMILY DEVOTIONS \n",
      "\n",
      "\n",
      "\n",
      "Faith Fact\n",
      "\n",
      "We believe that . . .The Bible is God’s Word and His plan for me.\n",
      "\n",
      "Faith Ve...\n",
      "\n",
      "📄 Result 3 (Score: 0.2052):\n",
      "   Content: Faith Fact\n",
      "\n",
      "We believe that . . .The Bible is God’s Word and His plan for me.\n",
      "\n",
      "Faith Verse\n",
      "\n",
      "Psalm 119:105 (NLT)\n",
      "\n",
      "Your word is a lamp to guide my feet and a light for my path.\n",
      "\n",
      "Foundation for Faith \n",
      "\n",
      "F...\n",
      "\n",
      "📄 Result 4 (Score: 0.2041):\n",
      "   Content: © 2023 by The General Council of the Assemblies of God, 1445 N. Boonville Ave., Springfield, Missouri 65802. All rights reserved. Unauthorized duplication is \n",
      "prohibited. This document may be altered ...\n",
      "\n",
      "✅ RAG functionality test complete\n"
     ]
    }
   ],
   "source": [
    "def test_rag_functionality(pinecone_index, openai_client, test_query: str = \"family devotion\"):\n",
    "           \"\"\"\n",
    "           Test the RAG functionality for retrieving relevant content.\n",
    "           \"\"\"\n",
    "           print(f\"🔍 Testing RAG functionality with query: '{test_query}'\")\n",
    "\n",
    "           try:\n",
    "               # Create embedding for the test query\n",
    "               query_response = openai_client.embeddings.create(\n",
    "                   input=test_query,\n",
    "                   model=EMBEDDING_MODEL\n",
    "               )\n",
    "               query_embedding = query_response.data[0].embedding\n",
    "\n",
    "               # Search Pinecone for similar content chunks\n",
    "               search_response = pinecone_index.query(\n",
    "                   vector=query_embedding,\n",
    "                   top_k=5,\n",
    "                   include_metadata=True,\n",
    "                   include_values=False\n",
    "               )\n",
    "\n",
    "               print(f\"🎯 Found {len(search_response.matches)} relevant chunks\")\n",
    "\n",
    "               # Display results\n",
    "               for i, match in enumerate(search_response.matches, 1):\n",
    "                   print(f\"\\n📄 Result {i} (Score: {match.score:.4f}):\")\n",
    "                   if match.metadata:\n",
    "                       print(f\"   Content: {match.metadata.get('text', 'No text available')[:200]}...\")\n",
    "                   else:\n",
    "                       print(\"   No metadata available\")\n",
    "\n",
    "               return search_response\n",
    "\n",
    "           except Exception as e:\n",
    "               print(f\"❌ Error testing RAG functionality: {str(e)}\")\n",
    "               return None\n",
    "\n",
    "       # Test the RAG functionality\n",
    "test_result = test_rag_functionality(aog_index, client)\n",
    "print(\"\\n✅ RAG functionality test complete\")"
   ]
  },
  {
   "cell_type": "code",
   "execution_count": 6,
   "id": "qx2p7y4ysp",
   "metadata": {},
   "outputs": [
    {
     "name": "stdout",
     "output_type": "stream",
     "text": [
      "📖 Examining document in devo_dir...\n",
      "Document ID: 815d84c3-6ad8-4406-8bd1-7d572124f559\n",
      "Document text length: 5885 characters\n",
      "Document metadata: {'file_name': 'FFF_FD_1.docx', 'file_path': '/home/bam/aog-devo/devo_dir/FFF_FD_1.docx', 'file_type': 'application/vnd.openxmlformats-officedocument.wordprocessingml.document', 'file_size': 799835, 'creation_date': '2025-08-28', 'last_modified_date': '2025-08-28'}\n",
      "First 300 characters: Foundations for Faith\t                     \tThe Scriptures Inspired | Session 1\t\n",
      "\n",
      "\n",
      "\n",
      "\n",
      "\n",
      "Day 1—FAMILY DEVOTIONS \n",
      "\n",
      "\n",
      "\n",
      "Faith Fact\n",
      "\n",
      "We believe that . . .The Bible is God’s Word and His plan for me.\n",
      "\n",
      "Faith Verse\n",
      "\n",
      "Psalm 119:105 (NLT)\n",
      "\n",
      "Your word is a lamp to guide my feet and a light for my path.\n",
      "\n",
      "Foundation ...\n",
      "--------------------------------------------------\n"
     ]
    }
   ],
   "source": [
    "# Let's examine the document and its content structure\n",
    "print(\"📖 Examining document in devo_dir...\")\n",
    "for doc in documents:\n",
    "    print(f\"Document ID: {doc.id_}\")\n",
    "    print(f\"Document text length: {len(doc.text)} characters\")\n",
    "    print(f\"Document metadata: {doc.metadata}\")\n",
    "    print(f\"First 300 characters: {doc.text[:300]}...\")\n",
    "    print(\"-\" * 50)"
   ]
  }
 ],
 "metadata": {
  "kernelspec": {
   "display_name": "general",
   "language": "python",
   "name": "python3"
  },
  "language_info": {
   "codemirror_mode": {
    "name": "ipython",
    "version": 3
   },
   "file_extension": ".py",
   "mimetype": "text/x-python",
   "name": "python",
   "nbconvert_exporter": "python",
   "pygments_lexer": "ipython3",
   "version": "3.12.3"
  }
 },
 "nbformat": 4,
 "nbformat_minor": 5
}
